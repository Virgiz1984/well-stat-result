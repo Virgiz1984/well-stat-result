{
 "cells": [
  {
   "cell_type": "code",
   "execution_count": 1,
   "id": "c47420a5-cefa-43de-bd2d-e04304c17d97",
   "metadata": {},
   "outputs": [
    {
     "name": "stderr",
     "output_type": "stream",
     "text": [
      "2025-08-10 16:23:27.591 \n",
      "  \u001b[33m\u001b[1mWarning:\u001b[0m to view this Streamlit app on a browser, run it with the following\n",
      "  command:\n",
      "\n",
      "    streamlit run C:\\Users\\rudenko\\AppData\\Local\\anaconda3\\Lib\\site-packages\\ipykernel_launcher.py [ARGUMENTS]\n",
      "2025-08-10 16:23:27.592 No runtime found, using MemoryCacheStorageManager\n",
      "2025-08-10 16:23:27.594 No runtime found, using MemoryCacheStorageManager\n"
     ]
    },
    {
     "name": "stdout",
     "output_type": "stream",
     "text": [
      "fgffghghg Index(['well', 'DEPTH', 'TOPS_SV', 'GK_NORM', 'LITH', 'NK', 'DTP_NORM',\n",
      "       'log_BK_NORM', 'clustrf', 'frac_rf', 'dis_frac_rfn', 'por_rf', 'kvo_rf',\n",
      "       'perm_timur_ad', 'kpr_rf', 'flow_rf', 'flow_all_rf', 'SAT_rf',\n",
      "       'coll_type', 'Кластеры ГИС', 'COLL_ps_mkz_rf', 'flow_frac_test_rf',\n",
      "       'fr_type', 'Prob_poro_res', 'group', 'LIHO_rf', 'Литология по ГИС',\n",
      "       'COLL_poro_type', 'COLL_frac_type'],\n",
      "      dtype='object')\n"
     ]
    }
   ],
   "source": [
    "import pandas as pd\n",
    "import numpy as np\n",
    "import streamlit as st\n",
    "import plotly.express as px\n",
    "from pandas.api.types import is_numeric_dtype\n",
    "\n",
    "st.set_page_config(page_title=\"Интерактивная визуализация результатов интерпретации ГИС\", layout=\"wide\")\n",
    "st.title(\"Интерактивная визуализация результатов интерпретации ГИС\")\n",
    "\n",
    "MIN_PER_CATEGORY = 1  # минимум сырых наблюдений на категорию (до агрегации)\n",
    "\n",
    "@st.cache_data\n",
    "def load_data():\n",
    "    df = pd.read_excel(\"interact_best_well.xlsx\", index_col=None)\n",
    "    unnamed_cols = [c for c in df.columns if str(c).startswith(\"Unnamed\")]\n",
    "    df = df.drop(columns=unnamed_cols, errors=\"ignore\")\n",
    "    return df\n",
    "\n",
    "def first_existing(df, candidates, default=None):\n",
    "    for c in candidates:\n",
    "        if c in df.columns:\n",
    "            return c\n",
    "    return default\n",
    "\n",
    "df = load_data()\n",
    "st.write(f\"Строк: {len(df):,}. Колонки: {len(df.columns)}\")\n",
    "\n",
    "# Инженерные флаги (при необходимости скорректируйте пороги)\n",
    "if {\"kpr_rf\", \"perm_timur_ad\"}.issubset(df.columns):\n",
    "    df[\"COLL_poro_type\"] = np.where(\n",
    "        (pd.to_numeric(df[\"kpr_rf\"], errors=\"coerce\") > 0.1) |\n",
    "        (pd.to_numeric(df[\"perm_timur_ad\"], errors=\"coerce\") > 0.1), 1, 0\n",
    "    )\n",
    "if {\"frac_rf\", \"dis_frac_rfn\"}.issubset(df.columns):\n",
    "    df[\"COLL_frac_type\"] = np.where(\n",
    "        (pd.to_numeric(df[\"frac_rf\"], errors=\"coerce\") > 0.3) |\n",
    "        (pd.to_numeric(df[\"dis_frac_rfn\"], errors=\"coerce\") > 0.3), 1, 0\n",
    "    )\n",
    "print('fgffghghg', df.columns)"
   ]
  },
  {
   "cell_type": "code",
   "execution_count": null,
   "id": "68db62f6-9378-49ba-b863-2d9d17ec35cf",
   "metadata": {},
   "outputs": [],
   "source": [
    "import pandas as pd\n",
    "import numpy as np\n",
    "import streamlit as st\n",
    "import plotly.express as px\n",
    "from pandas.api.types import is_numeric_dtype\n"
   ]
  },
  {
   "cell_type": "code",
   "execution_count": 2,
   "id": "af3cab55-fbd2-4a8f-902d-05fbeead8345",
   "metadata": {},
   "outputs": [],
   "source": [
    "df = pd.read_excel(\"interact_best_well.xlsx\", index_col=None)"
   ]
  },
  {
   "cell_type": "code",
   "execution_count": 3,
   "id": "ffecb547-cbda-441c-aa74-80b1a457a433",
   "metadata": {},
   "outputs": [
    {
     "name": "stdout",
     "output_type": "stream",
     "text": [
      "fgffghghg Index(['Unnamed: 0.1', 'Unnamed: 0', 'well', 'DEPTH', 'TOPS_SV', 'GK_NORM',\n",
      "       'LITH', 'NK', 'DTP_NORM', 'log_BK_NORM', 'clustrf', 'frac_rf',\n",
      "       'dis_frac_rfn', 'por_rf', 'kvo_rf', 'perm_timur_ad', 'kpr_rf',\n",
      "       'flow_rf', 'flow_all_rf', 'SAT_rf', 'coll_type', 'Кластеры ГИС',\n",
      "       'COLL_ps_mkz_rf', 'flow_frac_test_rf', 'fr_type', 'Prob_poro_res',\n",
      "       'group', 'LIHO_rf', 'Литология по ГИС'],\n",
      "      dtype='object')\n"
     ]
    }
   ],
   "source": [
    "print('fgffghghg', df.columns)"
   ]
  },
  {
   "cell_type": "code",
   "execution_count": null,
   "id": "5bf14fa0-e778-42bc-965e-a68d91b3c817",
   "metadata": {},
   "outputs": [],
   "source": []
  }
 ],
 "metadata": {
  "kernelspec": {
   "display_name": "Python 3 (ipykernel)",
   "language": "python",
   "name": "python3"
  },
  "language_info": {
   "codemirror_mode": {
    "name": "ipython",
    "version": 3
   },
   "file_extension": ".py",
   "mimetype": "text/x-python",
   "name": "python",
   "nbconvert_exporter": "python",
   "pygments_lexer": "ipython3",
   "version": "3.12.3"
  }
 },
 "nbformat": 4,
 "nbformat_minor": 5
}
